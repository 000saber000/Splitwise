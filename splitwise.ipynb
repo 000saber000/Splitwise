{
 "cells": [
  {
   "cell_type": "markdown",
   "metadata": {},
   "source": [
    "# Define Class and Functions"
   ]
  },
  {
   "cell_type": "code",
   "execution_count": 9,
   "metadata": {},
   "outputs": [],
   "source": [
    "# Define the User class to store user information\n",
    "class User:\n",
    "    def __init__(self, name):\n",
    "        self.name = name\n",
    "        self.balance = 0"
   ]
  },
  {
   "cell_type": "code",
   "execution_count": 10,
   "metadata": {},
   "outputs": [],
   "source": [
    "# Define the Expense class to handle individual expenses\n",
    "class Expense:\n",
    "    def __init__(self, description, amount, paid_by, participants):\n",
    "        self.description = description\n",
    "        self.amount = amount\n",
    "        self.paid_by = paid_by\n",
    "        self.participants = participants\n",
    "\n",
    "    # Distribute the expense among participants\n",
    "    def distribute_expense(self):\n",
    "        num_participants = len(self.participants)\n",
    "        if num_participants == 0:\n",
    "            return\n",
    "\n",
    "        each_share = self.amount / num_participants\n",
    "        self.paid_by.balance -= self.amount\n",
    "\n",
    "        for participant in self.participants:\n",
    "            participant.balance += each_share\n"
   ]
  },
  {
   "cell_type": "code",
   "execution_count": 83,
   "metadata": {},
   "outputs": [],
   "source": [
    "# Define the Group class to manage group expenses and balances\n",
    "class Group:\n",
    "    def __init__(self, name):\n",
    "        self.name = name\n",
    "        self.users = []\n",
    "        self.expenses = []\n",
    "\n",
    "    # Add a user to the group\n",
    "    def add_user(self, user):\n",
    "        self.users.append(user)\n",
    "\n",
    "    # Add an expense to the group\n",
    "    def add_expense(self, expense):\n",
    "        self.expenses.append(expense)\n",
    "\n",
    "    # Calculate balances for all users\n",
    "    def calculate_balances(self):\n",
    "        for user in self.users:\n",
    "            user.balance = 0\n",
    "\n",
    "        for expense in self.expenses:\n",
    "            expense.distribute_expense()\n",
    "\n",
    "    # Display user balances\n",
    "    def show_balances(self):\n",
    "        print(\"Group balances:\")\n",
    "        for user in self.users:\n",
    "            print(f\"{user.name}: {user.balance:.2f}\")\n",
    "\n",
    "    # Settle balances within the group\n",
    "    def settle_balances(self):\n",
    "        settlements = []\n",
    "\n",
    "        while True:\n",
    "            max_debtor = None\n",
    "            max_creditor = None\n",
    "            min_amount = float('inf')\n",
    "\n",
    "            for user in self.users:\n",
    "                for other_user in self.users:\n",
    "                    if user != other_user and user.balance > 0 and other_user.balance < 0:\n",
    "                        amount = min(user.balance, -other_user.balance)\n",
    "                        if amount < min_amount:\n",
    "                            min_amount = amount\n",
    "                            max_debtor = user\n",
    "                            max_creditor = other_user\n",
    "\n",
    "            if max_debtor is not None and max_creditor is not None:\n",
    "                settlements.append((max_debtor, max_creditor, min_amount))\n",
    "                max_debtor.balance -= min_amount\n",
    "                max_creditor.balance += min_amount\n",
    "            else:\n",
    "                break\n",
    "\n",
    "        # Display Last Shares\n",
    "        print(\" Last Sahre :\")\n",
    "        for debtor, creditor, amount in settlements:\n",
    "            print(f\"{debtor.name}   →     {creditor.name}    :    ${amount:.2f} \")"
   ]
  },
  {
   "cell_type": "markdown",
   "metadata": {},
   "source": [
    "# Creating users"
   ]
  },
  {
   "cell_type": "code",
   "execution_count": 84,
   "metadata": {},
   "outputs": [],
   "source": [
    "Saber = User(\"Saber\")\n",
    "Ali = User(\"Ali\")\n",
    "Reza = User(\"Reza\")\n",
    "Shaghayegh = User(\"Shaghayegh\")"
   ]
  },
  {
   "cell_type": "markdown",
   "metadata": {},
   "source": [
    "# Creating a group"
   ]
  },
  {
   "cell_type": "code",
   "execution_count": 85,
   "metadata": {},
   "outputs": [],
   "source": [
    "friends_group = Group('synergic')\n",
    "friends_group.add_user(Saber)\n",
    "friends_group.add_user(Ali)\n",
    "friends_group.add_user(Reza)\n",
    "friends_group.add_user(Shaghayegh)"
   ]
  },
  {
   "cell_type": "markdown",
   "metadata": {},
   "source": [
    "# Adding expense"
   ]
  },
  {
   "cell_type": "code",
   "execution_count": 86,
   "metadata": {},
   "outputs": [],
   "source": [
    "expense_1 = Expense(\"Pop Corn\", 120, Saber, [Saber,Ali,Reza])\n",
    "friends_group.add_expense(expense_1)\n",
    "\n",
    "expense_2 = Expense(\"Movie\", 200, Ali, [Saber,Ali,Reza,Shaghayegh])\n",
    "friends_group.add_expense(expense_2)\n",
    "\n",
    "expense_3 = Expense(\"Ice Cream\", 60, Reza, [Saber,Ali,Reza])\n",
    "friends_group.add_expense(expense_3)\n",
    "\n",
    "expense_4 = Expense(\"Pizza\", 260, Shaghayegh, [Saber,Ali,Reza,Shaghayegh])\n",
    "friends_group.add_expense(expense_4)"
   ]
  },
  {
   "cell_type": "markdown",
   "metadata": {},
   "source": [
    "# Calculating and displaying balances"
   ]
  },
  {
   "cell_type": "code",
   "execution_count": 87,
   "metadata": {},
   "outputs": [
    {
     "name": "stdout",
     "output_type": "stream",
     "text": [
      "Group balances:\n",
      "Saber: 55.00\n",
      "Ali: -25.00\n",
      "Reza: 115.00\n",
      "Shaghayegh: -145.00\n"
     ]
    }
   ],
   "source": [
    "friends_group.calculate_balances()\n",
    "friends_group.show_balances()"
   ]
  },
  {
   "cell_type": "markdown",
   "metadata": {},
   "source": [
    "# Check For Sum "
   ]
  },
  {
   "cell_type": "code",
   "execution_count": 88,
   "metadata": {},
   "outputs": [
    {
     "data": {
      "text/plain": [
       "0.0"
      ]
     },
     "execution_count": 88,
     "metadata": {},
     "output_type": "execute_result"
    }
   ],
   "source": [
    "Sum_Of_Balances = Saber.balance + Ali.balance + Reza.balance + Shaghayegh.balance \n",
    "Sum_Of_Balances"
   ]
  },
  {
   "cell_type": "markdown",
   "metadata": {},
   "source": [
    "# Settle balances within the group"
   ]
  },
  {
   "cell_type": "code",
   "execution_count": 89,
   "metadata": {},
   "outputs": [
    {
     "name": "stdout",
     "output_type": "stream",
     "text": [
      " Last Sahre :\n",
      "Saber   →     Ali    :    $25.00 \n",
      "Saber   →     Shaghayegh    :    $30.00 \n",
      "Reza   →     Shaghayegh    :    $115.00 \n"
     ]
    }
   ],
   "source": [
    "friends_group.settle_balances()"
   ]
  },
  {
   "cell_type": "code",
   "execution_count": null,
   "metadata": {},
   "outputs": [],
   "source": []
  }
 ],
 "metadata": {
  "kernelspec": {
   "display_name": "Python 3 (ipykernel)",
   "language": "python",
   "name": "python3"
  },
  "language_info": {
   "codemirror_mode": {
    "name": "ipython",
    "version": 3
   },
   "file_extension": ".py",
   "mimetype": "text/x-python",
   "name": "python",
   "nbconvert_exporter": "python",
   "pygments_lexer": "ipython3",
   "version": "3.10.9"
  }
 },
 "nbformat": 4,
 "nbformat_minor": 4
}
